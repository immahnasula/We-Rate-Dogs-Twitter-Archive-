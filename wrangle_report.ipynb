{
 "cells": [
  {
   "cell_type": "markdown",
   "metadata": {},
   "source": [
    "## Reporting: wrangle_report\n"
   ]
  },
  {
   "cell_type": "markdown",
   "metadata": {},
   "source": [
    "Data Wrangling consists of Gathering Data, Assessing the Data and Cleaning the Data. I was able to apply all 3 steps in the 2nd projected as seen below\n",
    "\n",
    "#### Gathering Data\n",
    "There were 3 sources of data that were gathered in this project ie. from the twitter-archive-enhanced csv file , the image predictions dataset and from the Twitter API \n",
    "#### Assessing Data\n",
    "The dataframes were visually assessed by observation of the data on both Jupyter Notebook and on Microsoft Excel.The following quality issues were picked up during visual assessment. \n",
    "\n",
    "1. Archive dataframe contains retweets \n",
    "2. The name column has words like 'a' and 'quite' included, which are not dog names \n",
    "3. The Dog stage columns ie. doggo, floofer, pupper and puppo can be combined into 1 column for better analysis \n",
    "4. The numerator and denominator columns can be merged into a new column called ratings \n",
    "5. The table includes retweets and replies columns which we do not require \n",
    "6. The text column has some values with &amp; to display the ampersand\"&\" symbol\n",
    "7. Name column missing values are displayed as 'None' instead of NaN\t\n",
    "8. columns such as retweeted_status_id, retweeted_status_user_id and retweeted_status_timestamp have null values \n",
    "\n",
    "From Programmatic assessment, the following quality issues were picked \n",
    "\n",
    "1. The tweet ID is an integer instead of a string\n",
    "2. Timestamp and retweeted_status_timestamp columns are integers instead of timestamp format\n",
    "3. Columns such as in_reply_to_status_id, in_reply_to_status_id, retweeted_status_id, retweeted_status_user_id and retweeted_status_timestamp have many missing values\n",
    "4. Expanded URLs column has missing values\n",
    "\n",
    "The following tidiness issues were picked \n",
    "\n",
    "1.All 3 dataframes will be merged into 1 dataframe since the data in them are related\n",
    "\n",
    "2.The Dog stage columns ie. doggo, floofer, pupper and puppo can be combined into 1 column for better analysis\n",
    "\n",
    "3.The numerator and denominator columns can be merged into a new column called ratings\n",
    "\n",
    "4.Instead of 3 tweet_id columns we can have 1\n",
    "\n",
    "### Cleaning Data \n",
    "\n",
    "Data was cleaned with reference to the quality and tidiness issues that were identified and each point was organized in the format cefine, code and test.I made a copy of the original data before cleaning and proceeded to save my final copy in a new csv file\n"
   ]
  },
  {
   "cell_type": "markdown",
   "metadata": {},
   "source": []
  },
  {
   "cell_type": "markdown",
   "metadata": {},
   "source": []
  },
  {
   "cell_type": "markdown",
   "metadata": {},
   "source": []
  },
  {
   "cell_type": "markdown",
   "metadata": {},
   "source": []
  }
 ],
 "metadata": {
  "kernelspec": {
   "display_name": "Python 3",
   "language": "python",
   "name": "python3"
  },
  "language_info": {
   "codemirror_mode": {
    "name": "ipython",
    "version": 3
   },
   "file_extension": ".py",
   "mimetype": "text/x-python",
   "name": "python",
   "nbconvert_exporter": "python",
   "pygments_lexer": "ipython3",
   "version": "3.6.3"
  }
 },
 "nbformat": 4,
 "nbformat_minor": 2
}
